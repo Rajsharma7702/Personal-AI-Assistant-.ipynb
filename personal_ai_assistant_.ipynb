{
  "nbformat": 4,
  "nbformat_minor": 0,
  "metadata": {
    "colab": {
      "provenance": [],
      "authorship_tag": "ABX9TyN+EFTl89qODGuodPAV3wxa",
      "include_colab_link": true
    },
    "kernelspec": {
      "name": "python3",
      "display_name": "Python 3"
    },
    "language_info": {
      "name": "python"
    }
  },
  "cells": [
    {
      "cell_type": "markdown",
      "metadata": {
        "id": "view-in-github",
        "colab_type": "text"
      },
      "source": [
        "<a href=\"https://colab.research.google.com/github/Rajsharma7702/Personal-AI-Assistant-.ipynb/blob/main/personal_ai_assistant_.ipynb\" target=\"_parent\"><img src=\"https://colab.research.google.com/assets/colab-badge.svg\" alt=\"Open In Colab\"/></a>"
      ]
    },
    {
      "cell_type": "code",
      "execution_count": null,
      "metadata": {
        "id": "uNrwRoiAfwBU"
      },
      "outputs": [],
      "source": [
        "#steps to follow\n",
        "#1. Give input text some question\n",
        "#2 based on the question,decide what ton do\n",
        "# on device operation\n",
        "# who are you kind of message\n",
        "#asking the assistant some question\n",
        "# 3 Give proper answer for each one of these responses\n",
        "# if the question is related search internet ,get the answer from goggle gemini\n",
        "#if you got an aswer conver it to text to speech\n"
      ]
    },
    {
      "cell_type": "code",
      "source": [
        "!pip install -q -U google-generativeai"
      ],
      "metadata": {
        "id": "Op0mSQf70Lrw"
      },
      "execution_count": null,
      "outputs": []
    },
    {
      "cell_type": "code",
      "source": [
        "def ask_question(name):\n",
        "  ques=\"Hey!\"+ name +\" What do you want?\"\n",
        "  ques=input(ques)\n",
        "  return ques"
      ],
      "metadata": {
        "id": "pRjVNS6ghjGb"
      },
      "execution_count": null,
      "outputs": []
    },
    {
      "cell_type": "code",
      "source": [
        "ask_question()"
      ],
      "metadata": {
        "colab": {
          "base_uri": "https://localhost:8080/",
          "height": 146
        },
        "id": "U1yoglc9jbAy",
        "outputId": "9db6e1b7-545e-4499-ec6b-c899e77f55de"
      },
      "execution_count": null,
      "outputs": [
        {
          "output_type": "error",
          "ename": "TypeError",
          "evalue": "ask_question() missing 1 required positional argument: 'name'",
          "traceback": [
            "\u001b[0;31m---------------------------------------------------------------------------\u001b[0m",
            "\u001b[0;31mTypeError\u001b[0m                                 Traceback (most recent call last)",
            "\u001b[0;32m<ipython-input-41-bf940db3b0a5>\u001b[0m in \u001b[0;36m<cell line: 1>\u001b[0;34m()\u001b[0m\n\u001b[0;32m----> 1\u001b[0;31m \u001b[0mask_question\u001b[0m\u001b[0;34m(\u001b[0m\u001b[0;34m)\u001b[0m\u001b[0;34m\u001b[0m\u001b[0;34m\u001b[0m\u001b[0m\n\u001b[0m",
            "\u001b[0;31mTypeError\u001b[0m: ask_question() missing 1 required positional argument: 'name'"
          ]
        }
      ]
    },
    {
      "cell_type": "code",
      "source": [
        "def classify_questions(ques):\n",
        "  goahead_with_web_search=False\n",
        "  device_list=['alarm','reminder',' message','call']\n",
        "  personal_lst=['who are you?','who created you']\n",
        "\n",
        "  device=False\n",
        "  for i in device_list:\n",
        "    if i in ques:\n",
        "      device=True\n",
        "\n",
        "      if device:\n",
        "        print(\"This question is related to device things,Which is not supported by this Assistant\")\n",
        "\n",
        "\n",
        "\n",
        "    personal_question=False\n",
        "    for i in personal_lst:\n",
        "        if i in ques.lower():\n",
        "          personal_question=True\n",
        "\n",
        "\n",
        "\n",
        "    if personal_question:\n",
        "          print(\"Hey i am a personal assistant created by Raj Sharma\")\n",
        "\n",
        "\n",
        "\n",
        "    if device:\n",
        "        goahead_with_web_search=False\n",
        "    elif personal_question:\n",
        "        goahead_with_web_search=False\n",
        "    else:\n",
        "        goahead_with_web_search=True\n",
        "\n",
        "\n",
        "    return goahead_with_web_search\n",
        "\n"
      ],
      "metadata": {
        "id": "jyyePUzajsV-"
      },
      "execution_count": null,
      "outputs": []
    },
    {
      "cell_type": "code",
      "source": [
        "classify_questions(\"who are you?\")"
      ],
      "metadata": {
        "colab": {
          "base_uri": "https://localhost:8080/"
        },
        "id": "Uj-eE1rktHar",
        "outputId": "a6516eb7-a644-4217-a6d5-cc1fbb71fc31"
      },
      "execution_count": null,
      "outputs": [
        {
          "output_type": "stream",
          "name": "stdout",
          "text": [
            "Hey i am a personal assistant created by Raj Sharma\n"
          ]
        },
        {
          "output_type": "execute_result",
          "data": {
            "text/plain": [
              "False"
            ]
          },
          "metadata": {},
          "execution_count": 22
        }
      ]
    },
    {
      "cell_type": "code",
      "source": [
        "#Start Searching with Google gemini"
      ],
      "metadata": {
        "id": "VVyeQdu2uM_e"
      },
      "execution_count": null,
      "outputs": []
    },
    {
      "cell_type": "code",
      "source": [
        "from google.colab import userdata"
      ],
      "metadata": {
        "id": "oNxwFiH0sC1Q"
      },
      "execution_count": null,
      "outputs": []
    },
    {
      "cell_type": "code",
      "source": [
        "userdata.get(\"GOOGLE_API_KEY\")"
      ],
      "metadata": {
        "id": "5Jr4120mzaB8"
      },
      "execution_count": null,
      "outputs": []
    },
    {
      "cell_type": "code",
      "source": [
        "import pathlib\n",
        "import textwrap\n",
        "\n",
        "import google.generativeai as genai\n",
        "#used to securely store your API\n",
        "from google.colab import userdata\n",
        "\n",
        "from IPython.display import display\n",
        "from IPython.display import Markdown\n",
        "from IPython.display import Audio, display\n",
        "# Import necessary library\n",
        "from gtts import gTTS\n",
        "\n",
        "\n",
        "# Get the API key from userdata\n",
        "GOOGLE_API_KEY = userdata.get(\"GOOGLE_API_KEY\")\n",
        "\n",
        "# Configure genai with the API key\n",
        "genai.configure(api_key=GOOGLE_API_KEY)\n",
        "\n",
        "\n",
        "def to_markdown(text):\n",
        "    text=text.replace('.','*')\n",
        "    return Markdown(textwrap.indent(text, ' > ',predicate=lambda _,: True))\n",
        "\n",
        "# This line should be executed after configuring genai\n",
        "# genai.configure(api_key=GOOGLE_API_KEY)"
      ],
      "metadata": {
        "id": "xeoJvRI70ZlH"
      },
      "execution_count": null,
      "outputs": []
    },
    {
      "cell_type": "code",
      "source": [
        "model = genai.GenerativeModel('gemini-pro')"
      ],
      "metadata": {
        "id": "9h_xAPXA5MeM"
      },
      "execution_count": null,
      "outputs": []
    },
    {
      "cell_type": "code",
      "source": [],
      "metadata": {
        "id": "9Wt4Btos4Rhu"
      },
      "execution_count": null,
      "outputs": []
    },
    {
      "cell_type": "code",
      "source": [
        "response = model.generate_content(\"Write the purpose of life.\")\n",
        "to_markdown(response.text)"
      ],
      "metadata": {
        "id": "jlNbsXFF4Zoy"
      },
      "execution_count": null,
      "outputs": []
    },
    {
      "cell_type": "code",
      "source": [
        "def ask_gemini(ques):\n",
        "  modified_prompt='Hey Give me answer of the question' + ques + 'in maximum of 100 words'\n",
        "  response = model.generate_content(ques)\n",
        "  to_markdown(response.text)\n",
        "  return response.text\n",
        "\n"
      ],
      "metadata": {
        "id": "xRmtpTrP9Vrj"
      },
      "execution_count": null,
      "outputs": []
    },
    {
      "cell_type": "code",
      "source": [
        "have_any_other_ques='y'\n",
        "name=''\n",
        "while have_any_other_ques=='y':\n",
        "  if name=='':\n",
        "    name=input(\"What is your name?-\")\n",
        "  q=ask_question(name)\n",
        "  go_ahead=classify_questions(q)\n",
        "  answer=''\n",
        "\n",
        "  if go_ahead==True:\n",
        "    answer=ask_gemini(q)\n",
        "    speak(answer)\n",
        "    print(answer)\n",
        "\n",
        "  have_any_other_ques=input(\"Do you have any other question?\")\n",
        "\n",
        "\n",
        "\n",
        "\n",
        "\n"
      ],
      "metadata": {
        "id": "qZTwcMlF_OoG"
      },
      "execution_count": null,
      "outputs": []
    },
    {
      "cell_type": "code",
      "source": [
        "!pip install gTTS"
      ],
      "metadata": {
        "colab": {
          "base_uri": "https://localhost:8080/"
        },
        "id": "5kJXweFiQDci",
        "outputId": "87edf260-bce8-4c59-e976-a3e2bc1801ae",
        "collapsed": true
      },
      "execution_count": null,
      "outputs": [
        {
          "output_type": "stream",
          "name": "stdout",
          "text": [
            "Requirement already satisfied: gTTS in /usr/local/lib/python3.10/dist-packages (2.5.3)\n",
            "Requirement already satisfied: requests<3,>=2.27 in /usr/local/lib/python3.10/dist-packages (from gTTS) (2.32.3)\n",
            "Requirement already satisfied: click<8.2,>=7.1 in /usr/local/lib/python3.10/dist-packages (from gTTS) (8.1.7)\n",
            "Requirement already satisfied: charset-normalizer<4,>=2 in /usr/local/lib/python3.10/dist-packages (from requests<3,>=2.27->gTTS) (3.4.0)\n",
            "Requirement already satisfied: idna<4,>=2.5 in /usr/local/lib/python3.10/dist-packages (from requests<3,>=2.27->gTTS) (3.10)\n",
            "Requirement already satisfied: urllib3<3,>=1.21.1 in /usr/local/lib/python3.10/dist-packages (from requests<3,>=2.27->gTTS) (2.2.3)\n",
            "Requirement already satisfied: certifi>=2017.4.17 in /usr/local/lib/python3.10/dist-packages (from requests<3,>=2.27->gTTS) (2024.8.30)\n"
          ]
        }
      ]
    },
    {
      "cell_type": "code",
      "source": [
        "# Create a gTTS object\n",
        "def speak(answer):\n",
        "  tts = gTTS(answer)\n",
        "  # Save the audio to a file\n",
        "  tts.save('audio.mp3')\n",
        "  display(Audio('audio.mp3', autoplay=True))"
      ],
      "metadata": {
        "id": "-0QOCTeSQsKR"
      },
      "execution_count": null,
      "outputs": []
    }
  ]
}